{
 "cells": [
  {
   "cell_type": "code",
   "execution_count": 1,
   "metadata": {},
   "outputs": [],
   "source": [
    "import sys\n",
    "import os\n",
    "import torch \n",
    "import numpy as np\n",
    "import architectures\n",
    "import utils\n",
    "import config\n",
    "import dataloaders\n",
    "import permutation_utils\n",
    "import matplotlib.pyplot as plt\n",
    "%matplotlib inline\n",
    "\n"
   ]
  },
  {
   "cell_type": "markdown",
   "metadata": {},
   "source": [
    "## Choose Network and Training Modalities\n",
    "An example of some simple choices is shown below, there are more options and choices available. \n",
    "To find them, check `config.py` or uncomment last line of cell below, and re-run.\n"
   ]
  },
  {
   "cell_type": "code",
   "execution_count": 2,
   "metadata": {},
   "outputs": [],
   "source": [
    "parser = config.get_parser()\n",
    "sys.argv = [\n",
    "        '',\n",
    "        '-net_type=mlp',\n",
    "        '-n_hidden_layers=1',\n",
    "        '-width=1000',\n",
    "        '-dataset=cifar10'\n",
    "    ]\n",
    "\n",
    "args = parser.parse_args()\n",
    "\n",
    "#parser.print_help()"
   ]
  },
  {
   "cell_type": "markdown",
   "metadata": {},
   "source": [
    "Boring preprocessing in next cell"
   ]
  },
  {
   "cell_type": "code",
   "execution_count": 3,
   "metadata": {},
   "outputs": [
    {
     "name": "stdout",
     "output_type": "stream",
     "text": [
      "Files already downloaded and verified\n",
      "Files already downloaded and verified\n",
      "Dataset: cifar10\n",
      "\n",
      "Network:\n",
      " MySequential(\n",
      "  (0): HookedLinear(in_features=3072, out_features=1000, bias=False)\n",
      "  (1): ReLU()\n",
      "  (2): HookedLinear(in_features=1000, out_features=10, bias=False)\n",
      ")\n"
     ]
    }
   ],
   "source": [
    "os.environ[\"CUDA_DEVICE_ORDER\"]=\"PCI_BUS_ID\"   \n",
    "os.environ[\"CUDA_VISIBLE_DEVICES\"]=args.visible_gpu\n",
    "np.random.seed(args.seed)\n",
    "torch.manual_seed(args.seed)\n",
    "\n",
    "def get_net_global():\n",
    "    net =  architectures.get_new_net(   args.net_type, \n",
    "                                        arch, \n",
    "                                        args.device, \n",
    "                                        args.dataset, \n",
    "                                        bn=args.bn)\n",
    "    return net\n",
    "    \n",
    "args = config.preprocess_args(args)\n",
    "trainloader0, trainloader1, testloader = dataloaders.get_dataloaders(\n",
    "                                                            args.dataset, \n",
    "                                                            args.net_type, \n",
    "                                                            args.batch_size, \n",
    "                                                            args.batch_size_2, \n",
    "                                                            num_workers=2)\n",
    "if args.dataset != 'cifar10':\n",
    "    input_dim = 784\n",
    "else:\n",
    "    input_dim = 3 * 32**2\n",
    "output_dim = 10\n",
    "if args.net_type == 'mlp':\n",
    "    arch = [input_dim, *([args.width]*args.n_hidden_layers), output_dim]\n",
    "if args.net_type == 'cnn':\n",
    "    arch = args.cnn_arch\n",
    "n_models = 2\n",
    "criterion = torch.nn.CrossEntropyLoss()\n",
    "\n",
    "net = get_net_global()\n",
    "ws = permutation_utils.create_weight_dict(net)\n",
    "\n",
    "print('Dataset:', args.dataset)\n",
    "print('\\nNetwork:\\n', net)"
   ]
  },
  {
   "cell_type": "markdown",
   "metadata": {},
   "source": [
    "# Train both networks \n",
    "(... and store weights from different points in time)\n",
    "\n",
    "Tracking performance is not built into this simple demo, but can be easily done with code a few cells further below."
   ]
  },
  {
   "cell_type": "code",
   "execution_count": 4,
   "metadata": {},
   "outputs": [
    {
     "name": "stdout",
     "output_type": "stream",
     "text": [
      "\n",
      "\n",
      "Start Training Model 0\n",
      "optimizer AdamW (\n",
      "Parameter Group 0\n",
      "    amsgrad: False\n",
      "    betas: (0.9, 0.999)\n",
      "    eps: 1e-08\n",
      "    lr: 0.001\n",
      "    weight_decay: 0.01\n",
      ")\n",
      "param update 0 of 500\n",
      "param update 499 of 500\n",
      "\n",
      "\n",
      "Start Training Model 1\n",
      "optimizer AdamW (\n",
      "Parameter Group 0\n",
      "    amsgrad: False\n",
      "    betas: (0.9, 0.999)\n",
      "    eps: 1e-08\n",
      "    lr: 0.001\n",
      "    weight_decay: 0.01\n",
      ")\n",
      "param update 0 of 500\n",
      "param update 499 of 500\n"
     ]
    }
   ],
   "source": [
    "for model_id in range(2):\n",
    "    print('\\n\\nStart Training Model', model_id)\n",
    "    net = get_net_global()\n",
    "    if not args.bn:\n",
    "        optimized_parameters = net.parameters()\n",
    "    else:\n",
    "        # BN paramters are frozen, to zero mean unit variance\n",
    "        optimized_parameters = permutation_utils.get_parameters_no_bn(net)\n",
    "    if model_id == 0:\n",
    "        opt = args.opt\n",
    "        lr = args.lr\n",
    "        trainloader = trainloader0\n",
    "    if model_id == 1:\n",
    "        opt = args.opt_2\n",
    "        lr = args.lr_2\n",
    "        trainloader = trainloader1\n",
    "    if opt == 'AdamW':\n",
    "        optimizer = torch.optim.AdamW(optimized_parameters, lr=lr)\n",
    "    if opt == 'SGD':\n",
    "        optimizer = torch.optim.SGD(optimized_parameters, lr=lr, momentum=args.sgd_mom, weight_decay=1e-4)\n",
    "    print('optimizer', optimizer)\n",
    "    param_update = 0 \n",
    "    measured_updates = []\n",
    "    while param_update < args.n_param_updates:\n",
    "        for X,y in trainloader:\n",
    "            if param_update >= args.n_param_updates:\n",
    "                break\n",
    "            if param_update % args.measure_period == 0 or param_update+1 == args.n_param_updates:\n",
    "                permutation_utils.extend_weight_dict(ws, net, model_id, param_update)\n",
    "                measured_updates.append(param_update)\n",
    "                print('param update', param_update, 'of', args.n_param_updates)\n",
    "            \n",
    "            X, y = X.to(args.device), y.to(args.device)\n",
    "            out = net(X)\n",
    "            loss = criterion(out, y)\n",
    "            loss.backward()\n",
    "            optimizer.step()\n",
    "            optimizer.zero_grad()\n",
    "            param_update += 1"
   ]
  },
  {
   "cell_type": "markdown",
   "metadata": {},
   "source": [
    "# Do the thing\n",
    "The following two cells compute permutations and interpolate between permuted/unpermuted networks.\n",
    "\n",
    "The main reason the second cell is \"slow\" is that it does lots of model evaluations (along the line interpolating between two different networks).\n",
    "\n",
    "The second cell below will print some simple summary statistics, plotting functionality showing somewhat more information can be found further below.\n",
    "\n",
    "The first cell below lets you choose at which point you want to compute the permutation and at which point you want to apply it."
   ]
  },
  {
   "cell_type": "code",
   "execution_count": 5,
   "metadata": {},
   "outputs": [
    {
     "name": "stdout",
     "output_type": "stream",
     "text": [
      "Network weights were saved at the following updates:\n",
      " [0, 499]\n",
      "The permutation will be computed based on weights from update: 499\n",
      "and it will be applied to the weights from update: 499\n"
     ]
    }
   ],
   "source": [
    "compute_perm_at = measured_updates[-1]\n",
    "apply_perm_at = measured_updates[-1]\n",
    "\n",
    "print('Network weights were saved at the following updates:\\n', measured_updates)\n",
    "print('The permutation will be computed based on weights from update:', compute_perm_at)\n",
    "print('and it will be applied to the weights from update:', apply_perm_at)"
   ]
  },
  {
   "cell_type": "code",
   "execution_count": 6,
   "metadata": {},
   "outputs": [
    {
     "name": "stdout",
     "output_type": "stream",
     "text": [
      "using parameters from update 499\n",
      "performance of vanilla averaged networks:\n",
      " {'train_acc': 0.43, 'test_acc': 0.407, 'train_nll': 1.746586561203003, 'train_nll_T': 1.7327826023101807, 'train_temp': 1.232846739442066, 'test_temp': 1.1497569953977356, 'test_nll': 1.800485372543335, 'test_nll_T': 1.796633005142212}\n",
      "\n",
      "\n",
      "permutation computed at update: 499 \n",
      "and applied at update 499\n",
      "performance of permuted, averaged networks:\n",
      " {'train_acc': 0.4749, 'test_acc': 0.4456, 'train_nll': 1.560697317123413, 'train_nll_T': 1.533729910850525, 'train_temp': 0.7564633275546289, 'test_temp': 0.7054802310718644, 'test_nll': 1.6608035564422607, 'test_nll_T': 1.6099597215652466}\n"
     ]
    }
   ],
   "source": [
    "def get_interpolation_stats( \n",
    "        ws, \n",
    "        param_update, \n",
    "        perms=[None, None], \n",
    "        interpolation_points=np.linspace(0,1,11)):\n",
    "    res_dict = {}\n",
    "    for a in interpolation_points:\n",
    "        neta = get_net_global()\n",
    "        neta = permutation_utils.merge_networks(ws, \n",
    "                                                a=a, \n",
    "                                                param_updates=param_update, \n",
    "                                                net=neta, \n",
    "                                                perms=perms)\n",
    "        if args.bn: \n",
    "            permutation_utils.recompute_bn_runnning_stats(neta, trainloader0, n_batches=100)\n",
    "        res_dict[a] = utils.get_stats_dict(neta, trainloader0, testloader, device=args.device)\n",
    "    return res_dict\n",
    "\n",
    "# Activations of networks will be computed using \n",
    "# this many batches (of batch_size args.batch_size)\n",
    "n_batches = 100\n",
    "\n",
    "stored_results = {}\n",
    "\n",
    "# Vanilla Interpolation\n",
    "stored_results['vanilla'] = get_interpolation_stats(ws, apply_perm_at)\n",
    "print('using parameters from update', apply_perm_at)\n",
    "print('performance of vanilla averaged networks:\\n', stored_results['vanilla'][0.5])\n",
    "\n",
    "# Permuted Interpolation\n",
    "# Initialise Individual Nets\n",
    "net0 = get_net_global()\n",
    "net1 = get_net_global()\n",
    "net0 = permutation_utils.merge_networks(ws, a=1.0, param_updates=compute_perm_at, net=net0)\n",
    "if args.bn: \n",
    "        permutation_utils.recompute_bn_runnning_stats(net0, trainloader0, n_batches=100)\n",
    "net1 = permutation_utils.merge_networks(ws, a=0.0, param_updates=compute_perm_at, net=net1)\n",
    "if args.bn: \n",
    "        permutation_utils.recompute_bn_runnning_stats(net1, trainloader0, n_batches=100)\n",
    "\n",
    "# Get Activations, compute Permutation\n",
    "activation_batches = 0\n",
    "A0s, A1s = permutation_utils.get_activations(net0, net1, trainloader, \n",
    "                                            n_batches=n_batches, device=args.device)\n",
    "costs = permutation_utils.compute_cost_matrices(A0s, A1s)\n",
    "ps = permutation_utils.compute_permutations(costs)\n",
    "\n",
    "# Permuted Interpolation\n",
    "stored_results['perm'] = get_interpolation_stats(ws, apply_perm_at, perms=[None, ps])\n",
    "print('\\n\\npermutation computed at update:', compute_perm_at, \n",
    "'\\nand applied at update', apply_perm_at, )\n",
    "print('performance of permuted, averaged networks:\\n', stored_results['perm'][0.5])"
   ]
  },
  {
   "cell_type": "markdown",
   "metadata": {},
   "source": [
    "# Now for some plotting\n",
    "Choose which quantity you want to plot in first line of cell below.\n",
    "\n",
    "Check output of cell above for which quantities are available (keys of printed dict are what's available)."
   ]
  },
  {
   "cell_type": "code",
   "execution_count": 10,
   "metadata": {},
   "outputs": [
    {
     "name": "stdout",
     "output_type": "stream",
     "text": [
      "permutation computed at update: 499 \n",
      "and applied at update 499\n"
     ]
    },
    {
     "data": {
      "image/png": "[encoded data removed]",
      "text/plain": [
       "<Figure size 432x288 with 1 Axes>"
      ]
     },
     "metadata": {
      "needs_background": "light"
     },
     "output_type": "display_data"
    }
   ],
   "source": [
    "quantity = 'test_acc' \n",
    "\n",
    "fig, ax = plt.subplots()\n",
    "variant = 'vanilla'\n",
    "for variant in ['vanilla', 'perm']:\n",
    "    x_axis = list(stored_results[variant].keys())\n",
    "    y_vals = []\n",
    "    for x in x_axis:\n",
    "        y_vals.append( stored_results[variant][x][quantity] )\n",
    "    ax.plot(x_axis, y_vals, label=variant)\n",
    "ax.legend()\n",
    "ax.set_ylabel(quantity)\n",
    "ax.set_xlabel('interpolation coeff')\n",
    "\n",
    "ax.set_title(args.net_type + ' trained on ' + args.dataset + '\\nArchitecture: ' + str(arch))\n",
    "print('permutation computed at update:', compute_perm_at, \n",
    "'\\nand applied at update', apply_perm_at, )\n"
   ]
  },
  {
   "cell_type": "code",
   "execution_count": null,
   "metadata": {},
   "outputs": [],
   "source": []
  }
 ],
 "metadata": {
  "kernelspec": {
   "display_name": "Python 3.8.8 ('bayfac': conda)",
   "language": "python",
   "name": "python3"
  },
  "language_info": {
   "codemirror_mode": {
    "name": "ipython",
    "version": 3
   },
   "file_extension": ".py",
   "mimetype": "text/x-python",
   "name": "python",
   "nbconvert_exporter": "python",
   "pygments_lexer": "ipython3",
   "version": "3.8.8"
  },
  "orig_nbformat": 4,
  "vscode": {
   "interpreter": {
    "hash": "7bce9f42c22707e142ab7a68e00ebabfee510afeb70b2214eb5a3ea996b9783d"
   }
  }
 },
 "nbformat": 4,
 "nbformat_minor": 2
}
